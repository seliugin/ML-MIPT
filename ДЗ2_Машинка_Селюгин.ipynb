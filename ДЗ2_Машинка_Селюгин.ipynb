{
 "cells": [
  {
   "cell_type": "markdown",
   "metadata": {},
   "source": [
    "Импортируем необходимые библиотеки"
   ]
  },
  {
   "cell_type": "code",
   "execution_count": 2,
   "metadata": {},
   "outputs": [],
   "source": [
    "import warnings\n",
    "warnings.filterwarnings(\"ignore\")\n",
    "\n",
    "import matplotlib.pyplot as plt\n",
    "from matplotlib.image import imread\n",
    "from mpl_toolkits import mplot3d\n",
    "from matplotlib import gridspec\n",
    "import seaborn as sns\n",
    "import pandas as pd\n",
    "from tqdm.notebook import tqdm\n",
    "\n",
    "from scipy.special import softmax\n",
    "from scipy.spatial.distance import cdist\n",
    "import numpy as np\n",
    "import torch\n",
    "\n",
    "from sklearn.preprocessing import StandardScaler\n",
    "from sklearn.svm import SVC, SVR\n",
    "from sklearn.linear_model import LogisticRegression, Perceptron\n",
    "from sklearn.metrics import classification_report, confusion_matrix\n",
    "from sklearn.model_selection import KFold, ParameterGrid, GridSearchCV, LeaveOneOut, RepeatedKFold\n",
    "from sklearn.datasets import make_classification, make_regression\n",
    "from sklearn.model_selection import train_test_split\n",
    "from sklearn.neighbors import KNeighborsClassifier\n",
    "from sklearn.neural_network import MLPClassifier\n",
    "\n",
    "\n",
    "from sklearn.decomposition import PCA\n",
    "\n",
    "from sklearn.datasets import load_breast_cancer\n",
    "\n",
    "#from mlxtend.plotting import plot_decision_regions\n",
    "\n",
    "#from torchvision import datasets\n",
    "#from torchvision import transforms"
   ]
  },
  {
   "cell_type": "markdown",
   "metadata": {},
   "source": [
    "Загружаем данные"
   ]
  },
  {
   "cell_type": "code",
   "execution_count": 3,
   "metadata": {},
   "outputs": [],
   "source": [
    "train_data = pd.read_csv('train.csv', index_col=0)"
   ]
  },
  {
   "cell_type": "code",
   "execution_count": 4,
   "metadata": {},
   "outputs": [
    {
     "data": {
      "text/html": [
       "<div>\n",
       "<style scoped>\n",
       "    .dataframe tbody tr th:only-of-type {\n",
       "        vertical-align: middle;\n",
       "    }\n",
       "\n",
       "    .dataframe tbody tr th {\n",
       "        vertical-align: top;\n",
       "    }\n",
       "\n",
       "    .dataframe thead th {\n",
       "        text-align: right;\n",
       "    }\n",
       "</style>\n",
       "<table border=\"1\" class=\"dataframe\">\n",
       "  <thead>\n",
       "    <tr style=\"text-align: right;\">\n",
       "      <th></th>\n",
       "      <th>x_1</th>\n",
       "      <th>x_2</th>\n",
       "      <th>x_3</th>\n",
       "      <th>x_4</th>\n",
       "      <th>x_5</th>\n",
       "      <th>x_6</th>\n",
       "      <th>x_7</th>\n",
       "      <th>x_8</th>\n",
       "      <th>x_9</th>\n",
       "      <th>x_10</th>\n",
       "      <th>...</th>\n",
       "      <th>x_292</th>\n",
       "      <th>x_293</th>\n",
       "      <th>x_294</th>\n",
       "      <th>x_295</th>\n",
       "      <th>x_296</th>\n",
       "      <th>x_297</th>\n",
       "      <th>x_298</th>\n",
       "      <th>x_299</th>\n",
       "      <th>x_300</th>\n",
       "      <th>Category</th>\n",
       "    </tr>\n",
       "    <tr>\n",
       "      <th>Id</th>\n",
       "      <th></th>\n",
       "      <th></th>\n",
       "      <th></th>\n",
       "      <th></th>\n",
       "      <th></th>\n",
       "      <th></th>\n",
       "      <th></th>\n",
       "      <th></th>\n",
       "      <th></th>\n",
       "      <th></th>\n",
       "      <th></th>\n",
       "      <th></th>\n",
       "      <th></th>\n",
       "      <th></th>\n",
       "      <th></th>\n",
       "      <th></th>\n",
       "      <th></th>\n",
       "      <th></th>\n",
       "      <th></th>\n",
       "      <th></th>\n",
       "      <th></th>\n",
       "    </tr>\n",
       "  </thead>\n",
       "  <tbody>\n",
       "    <tr>\n",
       "      <th>0</th>\n",
       "      <td>-0.03</td>\n",
       "      <td>-1.00</td>\n",
       "      <td>-0.02</td>\n",
       "      <td>-0.80</td>\n",
       "      <td>-1.37</td>\n",
       "      <td>0.62</td>\n",
       "      <td>-0.09</td>\n",
       "      <td>-0.87</td>\n",
       "      <td>-0.02</td>\n",
       "      <td>0.63</td>\n",
       "      <td>...</td>\n",
       "      <td>-0.16</td>\n",
       "      <td>-0.02</td>\n",
       "      <td>-0.15</td>\n",
       "      <td>-0.00</td>\n",
       "      <td>1.07</td>\n",
       "      <td>-0.06</td>\n",
       "      <td>-0.80</td>\n",
       "      <td>0.39</td>\n",
       "      <td>-0.06</td>\n",
       "      <td>-1.0</td>\n",
       "    </tr>\n",
       "    <tr>\n",
       "      <th>1</th>\n",
       "      <td>-0.18</td>\n",
       "      <td>1.71</td>\n",
       "      <td>0.00</td>\n",
       "      <td>-1.09</td>\n",
       "      <td>-1.13</td>\n",
       "      <td>-0.08</td>\n",
       "      <td>2.20</td>\n",
       "      <td>-0.32</td>\n",
       "      <td>0.00</td>\n",
       "      <td>0.81</td>\n",
       "      <td>...</td>\n",
       "      <td>-0.63</td>\n",
       "      <td>0.08</td>\n",
       "      <td>-1.83</td>\n",
       "      <td>0.04</td>\n",
       "      <td>1.49</td>\n",
       "      <td>0.10</td>\n",
       "      <td>0.78</td>\n",
       "      <td>-1.56</td>\n",
       "      <td>0.08</td>\n",
       "      <td>1.0</td>\n",
       "    </tr>\n",
       "    <tr>\n",
       "      <th>2</th>\n",
       "      <td>-1.41</td>\n",
       "      <td>0.01</td>\n",
       "      <td>0.00</td>\n",
       "      <td>-0.48</td>\n",
       "      <td>0.31</td>\n",
       "      <td>1.02</td>\n",
       "      <td>0.90</td>\n",
       "      <td>0.41</td>\n",
       "      <td>0.04</td>\n",
       "      <td>-0.00</td>\n",
       "      <td>...</td>\n",
       "      <td>-1.25</td>\n",
       "      <td>0.06</td>\n",
       "      <td>-0.20</td>\n",
       "      <td>0.04</td>\n",
       "      <td>-0.77</td>\n",
       "      <td>0.04</td>\n",
       "      <td>-1.39</td>\n",
       "      <td>0.87</td>\n",
       "      <td>0.02</td>\n",
       "      <td>1.0</td>\n",
       "    </tr>\n",
       "    <tr>\n",
       "      <th>3</th>\n",
       "      <td>-0.41</td>\n",
       "      <td>-0.54</td>\n",
       "      <td>-0.02</td>\n",
       "      <td>-0.53</td>\n",
       "      <td>0.52</td>\n",
       "      <td>-1.23</td>\n",
       "      <td>0.62</td>\n",
       "      <td>0.02</td>\n",
       "      <td>-0.03</td>\n",
       "      <td>0.06</td>\n",
       "      <td>...</td>\n",
       "      <td>0.49</td>\n",
       "      <td>-0.00</td>\n",
       "      <td>-0.40</td>\n",
       "      <td>-0.02</td>\n",
       "      <td>-1.02</td>\n",
       "      <td>-0.00</td>\n",
       "      <td>-0.16</td>\n",
       "      <td>0.41</td>\n",
       "      <td>-0.07</td>\n",
       "      <td>-1.0</td>\n",
       "    </tr>\n",
       "    <tr>\n",
       "      <th>4</th>\n",
       "      <td>-1.58</td>\n",
       "      <td>0.25</td>\n",
       "      <td>0.02</td>\n",
       "      <td>1.15</td>\n",
       "      <td>-1.95</td>\n",
       "      <td>-0.43</td>\n",
       "      <td>0.40</td>\n",
       "      <td>-0.33</td>\n",
       "      <td>0.02</td>\n",
       "      <td>0.72</td>\n",
       "      <td>...</td>\n",
       "      <td>-0.14</td>\n",
       "      <td>0.04</td>\n",
       "      <td>-0.85</td>\n",
       "      <td>0.00</td>\n",
       "      <td>0.02</td>\n",
       "      <td>0.14</td>\n",
       "      <td>0.68</td>\n",
       "      <td>-1.42</td>\n",
       "      <td>0.02</td>\n",
       "      <td>-1.0</td>\n",
       "    </tr>\n",
       "  </tbody>\n",
       "</table>\n",
       "<p>5 rows × 301 columns</p>\n",
       "</div>"
      ],
      "text/plain": [
       "     x_1   x_2   x_3   x_4   x_5   x_6   x_7   x_8   x_9  x_10  ...  x_292  \\\n",
       "Id                                                              ...          \n",
       "0  -0.03 -1.00 -0.02 -0.80 -1.37  0.62 -0.09 -0.87 -0.02  0.63  ...  -0.16   \n",
       "1  -0.18  1.71  0.00 -1.09 -1.13 -0.08  2.20 -0.32  0.00  0.81  ...  -0.63   \n",
       "2  -1.41  0.01  0.00 -0.48  0.31  1.02  0.90  0.41  0.04 -0.00  ...  -1.25   \n",
       "3  -0.41 -0.54 -0.02 -0.53  0.52 -1.23  0.62  0.02 -0.03  0.06  ...   0.49   \n",
       "4  -1.58  0.25  0.02  1.15 -1.95 -0.43  0.40 -0.33  0.02  0.72  ...  -0.14   \n",
       "\n",
       "    x_293  x_294  x_295  x_296  x_297  x_298  x_299  x_300  Category  \n",
       "Id                                                                    \n",
       "0   -0.02  -0.15  -0.00   1.07  -0.06  -0.80   0.39  -0.06      -1.0  \n",
       "1    0.08  -1.83   0.04   1.49   0.10   0.78  -1.56   0.08       1.0  \n",
       "2    0.06  -0.20   0.04  -0.77   0.04  -1.39   0.87   0.02       1.0  \n",
       "3   -0.00  -0.40  -0.02  -1.02  -0.00  -0.16   0.41  -0.07      -1.0  \n",
       "4    0.04  -0.85   0.00   0.02   0.14   0.68  -1.42   0.02      -1.0  \n",
       "\n",
       "[5 rows x 301 columns]"
      ]
     },
     "execution_count": 4,
     "metadata": {},
     "output_type": "execute_result"
    }
   ],
   "source": [
    "train_data.head()"
   ]
  },
  {
   "cell_type": "code",
   "execution_count": 5,
   "metadata": {},
   "outputs": [],
   "source": [
    "X = train_data.iloc[:, train_data.columns != 'Category'].values\n",
    "y = train_data.iloc[:, train_data.columns == 'Category'].values.reshape(-1)"
   ]
  },
  {
   "cell_type": "code",
   "execution_count": 6,
   "metadata": {},
   "outputs": [],
   "source": [
    "y[y==-1]=0 #change category encoding"
   ]
  },
  {
   "cell_type": "markdown",
   "metadata": {},
   "source": [
    "Научим перцептрон"
   ]
  },
  {
   "cell_type": "code",
   "execution_count": 35,
   "metadata": {},
   "outputs": [],
   "source": [
    "\n",
    "hidden_layers = []\n",
    "for i in (1,2):\n",
    "  hidden_layers.append(tuple(np.full(i, 64)))\n",
    "  hidden_layers.append(tuple(np.full(i, 8)))\n"
   ]
  },
  {
   "cell_type": "code",
   "execution_count": null,
   "metadata": {},
   "outputs": [],
   "source": [
    "perceptron_search = GridSearchCV(MLPClassifier(), {'hidden_layer_sizes': hidden_layers, 'activation': [\"relu\"], 'random_state':[0], 'max_iter': [2000]}, scoring=\"accuracy\", verbose = 5)\n",
    "perceptron_search.fit(X, y)"
   ]
  },
  {
   "cell_type": "code",
   "execution_count": null,
   "metadata": {},
   "outputs": [],
   "source": [
    "print(\"Best params:\", perceptron_search.best_params_)\n",
    "print(\"Accuracy:\", perceptron_search.best_score_)"
   ]
  },
  {
   "cell_type": "markdown",
   "metadata": {},
   "source": [
    "Но сначала проведем небольшую обработку данных"
   ]
  },
  {
   "cell_type": "code",
   "execution_count": 58,
   "metadata": {},
   "outputs": [],
   "source": [
    "from sklearn.preprocessing import MinMaxScaler\n",
    "scaler = MinMaxScaler()\n",
    "data_rescaled = scaler.fit_transform(X)\n"
   ]
  },
  {
   "cell_type": "code",
   "execution_count": 59,
   "metadata": {},
   "outputs": [],
   "source": [
    "from sklearn.decomposition import PCA\n",
    "pca = PCA(n_components = 0.99)\n",
    "pca.fit(data_rescaled)\n",
    "reduced = pca.transform(data_rescaled)"
   ]
  },
  {
   "cell_type": "code",
   "execution_count": 61,
   "metadata": {},
   "outputs": [
    {
     "data": {
      "text/plain": [
       "array([[-3.27372848e-01, -4.47545680e-06,  1.20260708e-01, ...,\n",
       "        -3.97655529e-02,  1.16275670e-02,  3.28827140e-02],\n",
       "       [ 2.98662906e-01, -1.87822400e-01,  5.78835404e-02, ...,\n",
       "         8.75803372e-03, -3.61526443e-02, -1.38153353e-02],\n",
       "       [ 2.96162414e-01,  1.63361488e-01,  1.07054043e-01, ...,\n",
       "         4.49794840e-03, -1.66346296e-02, -1.67063034e-02],\n",
       "       ...,\n",
       "       [-1.51131299e-01,  2.28502915e-01, -1.63792861e-01, ...,\n",
       "         2.19389525e-03,  2.02563023e-02,  1.39219152e-02],\n",
       "       [ 2.95691425e-01,  8.36946449e-02, -1.03082755e-01, ...,\n",
       "         3.64330964e-02, -4.55534308e-02,  4.76137454e-02],\n",
       "       [ 1.52526338e-01,  7.32562773e-02,  9.64641328e-02, ...,\n",
       "         2.67719813e-02,  9.76538935e-03,  2.20303937e-02]])"
      ]
     },
     "execution_count": 61,
     "metadata": {},
     "output_type": "execute_result"
    }
   ],
   "source": [
    "reduced"
   ]
  },
  {
   "cell_type": "code",
   "execution_count": 62,
   "metadata": {},
   "outputs": [
    {
     "name": "stdout",
     "output_type": "stream",
     "text": [
      "Perceptron with (64, 64) hidden layers\n",
      "               precision    recall  f1-score   support\n",
      "\n",
      "         0.0       0.96      0.97      0.97      8965\n",
      "         1.0       0.97      0.96      0.97      9035\n",
      "\n",
      "    accuracy                           0.97     18000\n",
      "   macro avg       0.97      0.97      0.97     18000\n",
      "weighted avg       0.97      0.97      0.97     18000\n",
      "\n"
     ]
    }
   ],
   "source": [
    "Perceptron_best_model = MLPClassifier(hidden_layer_sizes= (64,64), activation = \"relu\", random_state = 0, max_iter = 2000)\n",
    "\n",
    "X_train, X_test, y_train, y_test = train_test_split(reduced, y, test_size=0.2)\n",
    "Perceptron_best_model.fit(X_train, y_train )\n",
    "Perceptron_best_report = classification_report(Perceptron_best_model.predict(X_test), y_test)\n",
    "print(\"Perceptron with (64, 64) hidden layers\\n\", Perceptron_best_report)"
   ]
  },
  {
   "cell_type": "code",
   "execution_count": 63,
   "metadata": {},
   "outputs": [
    {
     "data": {
      "text/plain": [
       "MLPClassifier(hidden_layer_sizes=(64, 64), max_iter=2000, random_state=0)"
      ]
     },
     "execution_count": 63,
     "metadata": {},
     "output_type": "execute_result"
    }
   ],
   "source": [
    "Perceptron_best_model.fit(reduced, y)"
   ]
  },
  {
   "cell_type": "code",
   "execution_count": 43,
   "metadata": {},
   "outputs": [],
   "source": [
    "test_data = pd.read_csv('test.csv', index_col=0)"
   ]
  },
  {
   "cell_type": "code",
   "execution_count": 44,
   "metadata": {},
   "outputs": [],
   "source": [
    "X_test_data = test_data.iloc[:, test_data.columns != 'Category'].values"
   ]
  },
  {
   "cell_type": "code",
   "execution_count": 67,
   "metadata": {},
   "outputs": [],
   "source": [
    "X_rescaled = scaler.fit_transform(X_test_data)\n",
    "X_pca = pca.transform(X_rescaled)\n",
    "\n",
    "predict = Perceptron_best_model.predict(X_pca)\n",
    "predict[predict == 0] = -1"
   ]
  },
  {
   "cell_type": "code",
   "execution_count": 70,
   "metadata": {},
   "outputs": [],
   "source": [
    "outcome = pd.DataFrame(predict).astype(int)\n",
    "pass_id = pd.read_csv('test.csv')[['Id']]\n",
    "result = pd.concat([pass_id,outcome], axis=1)\n",
    "result.columns = ['Id','Category']\n",
    "result.to_csv('result_new format.csv',encoding='utf-8', columns=['Id','Category'], index=False)"
   ]
  },
  {
   "cell_type": "code",
   "execution_count": 75,
   "metadata": {},
   "outputs": [
    {
     "data": {
      "text/html": [
       "<div>\n",
       "<style scoped>\n",
       "    .dataframe tbody tr th:only-of-type {\n",
       "        vertical-align: middle;\n",
       "    }\n",
       "\n",
       "    .dataframe tbody tr th {\n",
       "        vertical-align: top;\n",
       "    }\n",
       "\n",
       "    .dataframe thead th {\n",
       "        text-align: right;\n",
       "    }\n",
       "</style>\n",
       "<table border=\"1\" class=\"dataframe\">\n",
       "  <thead>\n",
       "    <tr style=\"text-align: right;\">\n",
       "      <th></th>\n",
       "      <th>Id</th>\n",
       "      <th>Category</th>\n",
       "    </tr>\n",
       "  </thead>\n",
       "  <tbody>\n",
       "    <tr>\n",
       "      <th>0</th>\n",
       "      <td>0</td>\n",
       "      <td>-1</td>\n",
       "    </tr>\n",
       "    <tr>\n",
       "      <th>1</th>\n",
       "      <td>1</td>\n",
       "      <td>-1</td>\n",
       "    </tr>\n",
       "    <tr>\n",
       "      <th>2</th>\n",
       "      <td>2</td>\n",
       "      <td>1</td>\n",
       "    </tr>\n",
       "    <tr>\n",
       "      <th>3</th>\n",
       "      <td>3</td>\n",
       "      <td>-1</td>\n",
       "    </tr>\n",
       "    <tr>\n",
       "      <th>4</th>\n",
       "      <td>4</td>\n",
       "      <td>-1</td>\n",
       "    </tr>\n",
       "  </tbody>\n",
       "</table>\n",
       "</div>"
      ],
      "text/plain": [
       "   Id  Category\n",
       "0   0        -1\n",
       "1   1        -1\n",
       "2   2         1\n",
       "3   3        -1\n",
       "4   4        -1"
      ]
     },
     "execution_count": 75,
     "metadata": {},
     "output_type": "execute_result"
    }
   ],
   "source": [
    "result.head()"
   ]
  },
  {
   "cell_type": "markdown",
   "metadata": {},
   "source": [
    "Итак, результат с PCA хуже чем без него. Оставим предыдущий результат с двуслойной сеткой."
   ]
  },
  {
   "cell_type": "code",
   "execution_count": 76,
   "metadata": {},
   "outputs": [
    {
     "data": {
      "text/plain": [
       "MLPClassifier(hidden_layer_sizes=(64, 64), max_iter=2000, random_state=0)"
      ]
     },
     "execution_count": 76,
     "metadata": {},
     "output_type": "execute_result"
    }
   ],
   "source": [
    "Perceptron_best_model.fit(X, y)"
   ]
  },
  {
   "cell_type": "code",
   "execution_count": 77,
   "metadata": {},
   "outputs": [],
   "source": [
    "predict = Perceptron_best_model.predict(X_test_data)\n",
    "predict[predict == 0] = -1"
   ]
  },
  {
   "cell_type": "code",
   "execution_count": 78,
   "metadata": {},
   "outputs": [],
   "source": [
    "outcome = pd.DataFrame(predict).astype(int)\n",
    "pass_id = pd.read_csv('test.csv')[['Id']]\n",
    "result = pd.concat([pass_id,outcome], axis=1)\n",
    "result.columns = ['Id','Category']\n",
    "result.to_csv('result_without PCA.csv',encoding='utf-8', columns=['Id','Category'], index=False)"
   ]
  },
  {
   "cell_type": "code",
   "execution_count": null,
   "metadata": {},
   "outputs": [],
   "source": []
  }
 ],
 "metadata": {
  "kernelspec": {
   "display_name": "Python 3",
   "language": "python",
   "name": "python3"
  },
  "language_info": {
   "codemirror_mode": {
    "name": "ipython",
    "version": 3
   },
   "file_extension": ".py",
   "mimetype": "text/x-python",
   "name": "python",
   "nbconvert_exporter": "python",
   "pygments_lexer": "ipython3",
   "version": "3.7.6"
  }
 },
 "nbformat": 4,
 "nbformat_minor": 4
}
